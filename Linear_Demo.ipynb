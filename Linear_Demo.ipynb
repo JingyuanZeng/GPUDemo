{
 "cells": [
  {
   "cell_type": "code",
   "execution_count": 1,
   "metadata": {},
   "outputs": [
    {
     "name": "stdout",
     "output_type": "stream",
     "text": [
      "Epoch: 1, w: -0.917728185654, b: 9.61907100677\n",
      "Epoch: 2, w: 0.297577112913, b: 10.4257154465\n",
      "Epoch: 3, w: 1.1160671711, b: 10.2883520126\n",
      "Epoch: 4, w: 1.55827689171, b: 10.1474761963\n",
      "Epoch: 5, w: 1.78651320934, b: 10.0666284561\n",
      "Epoch: 6, w: 1.90300786495, b: 10.0243225098\n",
      "Epoch: 7, w: 1.96230208874, b: 10.0026531219\n",
      "Epoch: 8, w: 1.99246048927, b: 9.99161624908\n",
      "Epoch: 9, w: 2.00779652596, b: 9.98600101471\n",
      "Epoch: 10, w: 2.01559519768, b: 9.98314476013\n",
      "Epoch: 11, w: 2.01956129074, b: 9.98169136047\n",
      "Epoch: 12, w: 2.02157783508, b: 9.9809513092\n",
      "Epoch: 13, w: 2.02260231972, b: 9.9805765152\n",
      "Epoch: 14, w: 2.02312278748, b: 9.98038673401\n",
      "Epoch: 15, w: 2.02338767052, b: 9.98029136658\n",
      "Epoch: 16, w: 2.02352285385, b: 9.98024177551\n",
      "Epoch: 17, w: 2.0235915184, b: 9.98021602631\n",
      "Epoch: 18, w: 2.02362704277, b: 9.98020267487\n",
      "Epoch: 19, w: 2.02364373207, b: 9.98019790649\n",
      "Epoch: 20, w: 2.02365207672, b: 9.98019504547\n",
      "Epoch: 21, w: 2.02365636826, b: 9.98019218445\n",
      "Epoch: 22, w: 2.02365922928, b: 9.9801902771\n",
      "Epoch: 23, w: 2.02365994453, b: 9.98019123077\n",
      "Epoch: 24, w: 2.02366018295, b: 9.98019123077\n",
      "Epoch: 25, w: 2.02366018295, b: 9.98019123077\n",
      "Epoch: 26, w: 2.02366018295, b: 9.98019123077\n",
      "Epoch: 27, w: 2.02366018295, b: 9.98019123077\n",
      "Epoch: 28, w: 2.02366018295, b: 9.98019123077\n",
      "Epoch: 29, w: 2.02366018295, b: 9.98019123077\n",
      "Epoch: 30, w: 2.02366018295, b: 9.98019123077\n"
     ]
    },
    {
     "data": {
      "image/png": "[encoded data removed]",
      "text/plain": [
       "<matplotlib.figure.Figure at 0x7f8beffcb690>"
      ]
     },
     "metadata": {},
     "output_type": "display_data"
    }
   ],
   "source": [
    "%matplotlib inline \n",
    "import tensorflow as tf\n",
    "import numpy as np\n",
    "import matplotlib.pyplot as plt\n",
    "\n",
    "# Prepare train data\n",
    "train_X = np.linspace(-1, 1, 100)\n",
    "train_Y = 2 * train_X + np.random.randn(*train_X.shape) * 0.33 + 10\n",
    "\n",
    "# Define the model\n",
    "X = tf.placeholder(\"float\")\n",
    "Y = tf.placeholder(\"float\")\n",
    "w = tf.Variable(0.0, name=\"weight\")\n",
    "b = tf.Variable(0.0, name=\"bias\")\n",
    "loss = tf.square(Y - X*w - b)\n",
    "train_op = tf.train.GradientDescentOptimizer(0.01).minimize(loss)\n",
    "\n",
    "# Create session to run\n",
    "with tf.Session() as sess:\n",
    "    sess.run(tf.global_variables_initializer())\n",
    "\n",
    "    epoch = 1\n",
    "    for i in range(30):\n",
    "        for (x, y) in zip(train_X, train_Y):\n",
    "            _, w_value, b_value = sess.run([train_op, w, b],feed_dict={X: x,Y: y})\n",
    "        print(\"Epoch: {}, w: {}, b: {}\".format(epoch, w_value, b_value))\n",
    "        epoch += 1\n",
    "\n",
    "# Draw plot\n",
    "plt.plot(train_X,train_Y,\"+\")\n",
    "plt.plot(train_X,train_X.dot(w_value)+b_value)\n",
    "plt.show()"
   ]
  }
 ],
 "metadata": {
  "kernelspec": {
   "display_name": "Python 2",
   "language": "python",
   "name": "python2"
  },
  "language_info": {
   "codemirror_mode": {
    "name": "ipython",
    "version": 2
   },
   "file_extension": ".py",
   "mimetype": "text/x-python",
   "name": "python",
   "nbconvert_exporter": "python",
   "pygments_lexer": "ipython2",
   "version": "2.7.12"
  }
 },
 "nbformat": 4,
 "nbformat_minor": 2
}
